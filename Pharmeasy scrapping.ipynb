{
 "cells": [
  {
   "cell_type": "markdown",
   "id": "be197d05",
   "metadata": {},
   "source": [
    "## PHARMAEASY.COM SCRAPING\n",
    "This code was used to scrap the vitamin section of pharmaeasy.com."
   ]
  },
  {
   "cell_type": "markdown",
   "id": "a8e14f4f",
   "metadata": {},
   "source": [
    "A peculiar characteristic of this webpage is that it is made of infinite scroll."
   ]
  },
  {
   "cell_type": "code",
   "execution_count": 1,
   "id": "b988924c",
   "metadata": {},
   "outputs": [],
   "source": [
    "# import libraries\n",
    "import pandas as pd\n",
    "import json\n",
    "import requests"
   ]
  },
  {
   "cell_type": "code",
   "execution_count": 31,
   "id": "74441bb4",
   "metadata": {},
   "outputs": [],
   "source": [
    "product_id = []\n",
    "name = []\n",
    "manufacturer = []\n",
    "discounted_price = []\n",
    "actual_price = []\n",
    "\n",
    "page_num = 1\n",
    "try:\n",
    "    while True:\n",
    "        url = \"https://www.pharmeasy.in/api/search/search/?intent_id=1657058963236&page=\" + str(page_num) + \"&q=vitamins\"\n",
    "        #send get() request to fetch webpage content\n",
    "        response = requests.get(url)\n",
    "\n",
    "        # extract json file\n",
    "        result = response.content\n",
    "        data = json.loads(result)\n",
    "        if len(data[\"data\"][\"products\"]) == 0:\n",
    "            break\n",
    "        else:\n",
    "            for i in data[\"data\"][\"products\"]:\n",
    "                \n",
    "                # extract product_id\n",
    "                try:\n",
    "                    product_id.append(i[\"productId\"])\n",
    "                except:\n",
    "                    product_id.append(\"n/a\")\n",
    "                    \n",
    "                # extract name of product\n",
    "                try:\n",
    "                    name.append(i[\"name\"].title())\n",
    "                except:\n",
    "                    name.append(\"n/a\")\n",
    "                \n",
    "                # extract manufacturer of product\n",
    "                try:\n",
    "                    manufacturer.append(i[\"manufacturer\"].title())\n",
    "                except:\n",
    "                    manufacturer.append(\"n/a\")\n",
    "                \n",
    "                # extract price after discounted\n",
    "                try:\n",
    "                    discounted_price.append(i[\"salePriceDecimal\"].title())\n",
    "                except:\n",
    "                    discounted_price.append(\"n/a\")\n",
    "                \n",
    "                # extract price before discount\n",
    "                try:\n",
    "                    actual_price.append(i[\"mrpDecimal\"].title())\n",
    "                except:\n",
    "                    actual_price.append(\"n/a\")\n",
    "            page_num+= 1\n",
    "except:\n",
    "    pass"
   ]
  },
  {
   "cell_type": "code",
   "execution_count": 33,
   "id": "a49d61e5",
   "metadata": {},
   "outputs": [
    {
     "data": {
      "text/html": [
       "<div>\n",
       "<style scoped>\n",
       "    .dataframe tbody tr th:only-of-type {\n",
       "        vertical-align: middle;\n",
       "    }\n",
       "\n",
       "    .dataframe tbody tr th {\n",
       "        vertical-align: top;\n",
       "    }\n",
       "\n",
       "    .dataframe thead th {\n",
       "        text-align: right;\n",
       "    }\n",
       "</style>\n",
       "<table border=\"1\" class=\"dataframe\">\n",
       "  <thead>\n",
       "    <tr style=\"text-align: right;\">\n",
       "      <th></th>\n",
       "      <th>product_id</th>\n",
       "      <th>name</th>\n",
       "      <th>manufacturer</th>\n",
       "      <th>discounted_price</th>\n",
       "      <th>actual_price</th>\n",
       "    </tr>\n",
       "  </thead>\n",
       "  <tbody>\n",
       "    <tr>\n",
       "      <th>0</th>\n",
       "      <td>1</td>\n",
       "      <td>Vitamin Test</td>\n",
       "      <td>n/a</td>\n",
       "      <td>n/a</td>\n",
       "      <td>n/a</td>\n",
       "    </tr>\n",
       "    <tr>\n",
       "      <th>1</th>\n",
       "      <td>235895</td>\n",
       "      <td>Liveasy Wellness Multivitamin Multimineral - I...</td>\n",
       "      <td>Liveasy Wellness</td>\n",
       "      <td>349.50</td>\n",
       "      <td>699.00</td>\n",
       "    </tr>\n",
       "    <tr>\n",
       "      <th>2</th>\n",
       "      <td>3491142</td>\n",
       "      <td>Pharmeasy Multivitamin Multimineral - Immunity...</td>\n",
       "      <td>Pharmeasy</td>\n",
       "      <td>419.40</td>\n",
       "      <td>699.00</td>\n",
       "    </tr>\n",
       "    <tr>\n",
       "      <th>3</th>\n",
       "      <td>3017741</td>\n",
       "      <td>Lycopene Syrup 200 Ml</td>\n",
       "      <td>Oriel</td>\n",
       "      <td>187.00</td>\n",
       "      <td>220.00</td>\n",
       "    </tr>\n",
       "    <tr>\n",
       "      <th>4</th>\n",
       "      <td>5017</td>\n",
       "      <td>Calday D3 60K Capsule</td>\n",
       "      <td>Biovitamins Private Limited</td>\n",
       "      <td>81.60</td>\n",
       "      <td>96.00</td>\n",
       "    </tr>\n",
       "  </tbody>\n",
       "</table>\n",
       "</div>"
      ],
      "text/plain": [
       "   product_id                                               name  \\\n",
       "0           1                                       Vitamin Test   \n",
       "1      235895  Liveasy Wellness Multivitamin Multimineral - I...   \n",
       "2     3491142  Pharmeasy Multivitamin Multimineral - Immunity...   \n",
       "3     3017741                              Lycopene Syrup 200 Ml   \n",
       "4        5017                              Calday D3 60K Capsule   \n",
       "\n",
       "                  manufacturer discounted_price actual_price  \n",
       "0                          n/a              n/a          n/a  \n",
       "1             Liveasy Wellness           349.50       699.00  \n",
       "2                    Pharmeasy           419.40       699.00  \n",
       "3                        Oriel           187.00       220.00  \n",
       "4  Biovitamins Private Limited            81.60        96.00  "
      ]
     },
     "execution_count": 33,
     "metadata": {},
     "output_type": "execute_result"
    }
   ],
   "source": [
    "# adding all data into a dataframe\n",
    "df = pd.DataFrame({\"product_id\": product_id,\n",
    "                   \"name\": name,\n",
    "                   \"manufacturer\": manufacturer,\n",
    "                   \"discounted_price\": discounted_price,\n",
    "                   \"actual_price\": actual_price\n",
    "                  })\n",
    "df.head()"
   ]
  },
  {
   "cell_type": "code",
   "execution_count": 37,
   "id": "949c812c",
   "metadata": {},
   "outputs": [],
   "source": [
    "df.drop( 0, axis=0, inplace=True)"
   ]
  },
  {
   "cell_type": "code",
   "execution_count": 39,
   "id": "650c6437",
   "metadata": {},
   "outputs": [
    {
     "data": {
      "text/html": [
       "<div>\n",
       "<style scoped>\n",
       "    .dataframe tbody tr th:only-of-type {\n",
       "        vertical-align: middle;\n",
       "    }\n",
       "\n",
       "    .dataframe tbody tr th {\n",
       "        vertical-align: top;\n",
       "    }\n",
       "\n",
       "    .dataframe thead th {\n",
       "        text-align: right;\n",
       "    }\n",
       "</style>\n",
       "<table border=\"1\" class=\"dataframe\">\n",
       "  <thead>\n",
       "    <tr style=\"text-align: right;\">\n",
       "      <th></th>\n",
       "      <th>product_id</th>\n",
       "      <th>name</th>\n",
       "      <th>manufacturer</th>\n",
       "      <th>discounted_price</th>\n",
       "      <th>actual_price</th>\n",
       "    </tr>\n",
       "  </thead>\n",
       "  <tbody>\n",
       "    <tr>\n",
       "      <th>1</th>\n",
       "      <td>235895</td>\n",
       "      <td>Liveasy Wellness Multivitamin Multimineral - I...</td>\n",
       "      <td>Liveasy Wellness</td>\n",
       "      <td>349.50</td>\n",
       "      <td>699.00</td>\n",
       "    </tr>\n",
       "    <tr>\n",
       "      <th>2</th>\n",
       "      <td>3491142</td>\n",
       "      <td>Pharmeasy Multivitamin Multimineral - Immunity...</td>\n",
       "      <td>Pharmeasy</td>\n",
       "      <td>419.40</td>\n",
       "      <td>699.00</td>\n",
       "    </tr>\n",
       "  </tbody>\n",
       "</table>\n",
       "</div>"
      ],
      "text/plain": [
       "   product_id                                               name  \\\n",
       "1      235895  Liveasy Wellness Multivitamin Multimineral - I...   \n",
       "2     3491142  Pharmeasy Multivitamin Multimineral - Immunity...   \n",
       "\n",
       "       manufacturer discounted_price actual_price  \n",
       "1  Liveasy Wellness           349.50       699.00  \n",
       "2         Pharmeasy           419.40       699.00  "
      ]
     },
     "execution_count": 39,
     "metadata": {},
     "output_type": "execute_result"
    }
   ],
   "source": [
    "df.head(2)"
   ]
  },
  {
   "cell_type": "code",
   "execution_count": 40,
   "id": "cb04ad5d",
   "metadata": {},
   "outputs": [
    {
     "data": {
      "text/plain": [
       "276"
      ]
     },
     "execution_count": 40,
     "metadata": {},
     "output_type": "execute_result"
    }
   ],
   "source": [
    "len(df)"
   ]
  },
  {
   "cell_type": "code",
   "execution_count": 41,
   "id": "b5bd1dd1",
   "metadata": {},
   "outputs": [
    {
     "name": "stdout",
     "output_type": "stream",
     "text": [
      "<class 'pandas.core.frame.DataFrame'>\n",
      "Int64Index: 276 entries, 1 to 276\n",
      "Data columns (total 5 columns):\n",
      " #   Column            Non-Null Count  Dtype \n",
      "---  ------            --------------  ----- \n",
      " 0   product_id        276 non-null    int64 \n",
      " 1   name              276 non-null    object\n",
      " 2   manufacturer      276 non-null    object\n",
      " 3   discounted_price  276 non-null    object\n",
      " 4   actual_price      276 non-null    object\n",
      "dtypes: int64(1), object(4)\n",
      "memory usage: 12.9+ KB\n"
     ]
    }
   ],
   "source": [
    "df.info()"
   ]
  },
  {
   "cell_type": "code",
   "execution_count": 42,
   "id": "3a94e191",
   "metadata": {},
   "outputs": [],
   "source": [
    "df.to_csv(\"pharmeasy_vitamins.csv\", index=False)"
   ]
  }
 ],
 "metadata": {
  "kernelspec": {
   "display_name": "Python 3 (ipykernel)",
   "language": "python",
   "name": "python3"
  },
  "language_info": {
   "codemirror_mode": {
    "name": "ipython",
    "version": 3
   },
   "file_extension": ".py",
   "mimetype": "text/x-python",
   "name": "python",
   "nbconvert_exporter": "python",
   "pygments_lexer": "ipython3",
   "version": "3.9.7"
  }
 },
 "nbformat": 4,
 "nbformat_minor": 5
}
