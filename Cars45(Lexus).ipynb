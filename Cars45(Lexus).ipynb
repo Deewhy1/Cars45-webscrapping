{
 "cells": [
  {
   "cell_type": "code",
   "execution_count": 133,
   "id": "cb8783eb",
   "metadata": {},
   "outputs": [],
   "source": [
    "import pandas as pd\n",
    "import numpy as np\n",
    "import requests\n",
    "from bs4 import BeautifulSoup"
   ]
  },
  {
   "cell_type": "code",
   "execution_count": 192,
   "id": "f99db6ee",
   "metadata": {},
   "outputs": [],
   "source": [
    "# store website url in a variable\n",
    "website = 'https://www.cars45.com/listing/lexus?listing_id=uc0qL_tfhqKfJoc7'"
   ]
  },
  {
   "cell_type": "code",
   "execution_count": 193,
   "id": "9d144d63",
   "metadata": {},
   "outputs": [],
   "source": [
    "# request website\n",
    "response = requests.get(website)"
   ]
  },
  {
   "cell_type": "code",
   "execution_count": 194,
   "id": "55e90556",
   "metadata": {},
   "outputs": [],
   "source": [
    "# soup object\n",
    "soup = BeautifulSoup(response.content, 'html.parser')"
   ]
  },
  {
   "cell_type": "code",
   "execution_count": 195,
   "id": "5c52fe96",
   "metadata": {},
   "outputs": [
    {
     "data": {
      "text/plain": [
       "15"
      ]
     },
     "execution_count": 195,
     "metadata": {},
     "output_type": "execute_result"
    }
   ],
   "source": [
    "# bringing up the content of the url\n",
    "results = soup.find_all('div',{'class':'car-feature__details'})\n",
    "len(results)"
   ]
  },
  {
   "cell_type": "code",
   "execution_count": 196,
   "id": "ba92d0bd",
   "metadata": {},
   "outputs": [
    {
     "data": {
      "text/plain": [
       "'Lexus ES 2009 Gray'"
      ]
     },
     "execution_count": 196,
     "metadata": {},
     "output_type": "execute_result"
    }
   ],
   "source": [
    "# name\n",
    "results[0].find('p',{'class':'car-feature__name'}).get_text()"
   ]
  },
  {
   "cell_type": "code",
   "execution_count": 197,
   "id": "50b3e7a5",
   "metadata": {},
   "outputs": [
    {
     "data": {
      "text/plain": [
       "'4,725,000'"
      ]
     },
     "execution_count": 197,
     "metadata": {},
     "output_type": "execute_result"
    }
   ],
   "source": [
    "# price\n",
    "results[0].find('p',{'class':'car-feature__amount'}).get_text().split()[-1]"
   ]
  },
  {
   "cell_type": "code",
   "execution_count": 198,
   "id": "eeaf4d6c",
   "metadata": {},
   "outputs": [
    {
     "data": {
      "text/plain": [
       "'Foreign Used'"
      ]
     },
     "execution_count": 198,
     "metadata": {},
     "output_type": "execute_result"
    }
   ],
   "source": [
    "# country\n",
    "results[0].find_all('span')[0].get_text()"
   ]
  },
  {
   "cell_type": "code",
   "execution_count": 199,
   "id": "749df54c",
   "metadata": {},
   "outputs": [
    {
     "data": {
      "text/plain": [
       "'208485 km'"
      ]
     },
     "execution_count": 199,
     "metadata": {},
     "output_type": "execute_result"
    }
   ],
   "source": [
    "# mileage\n",
    "results[0].find_all('span')[1].get_text()"
   ]
  },
  {
   "cell_type": "code",
   "execution_count": 200,
   "id": "e046e707",
   "metadata": {},
   "outputs": [],
   "source": [
    "name = []\n",
    "price = []\n",
    "country = []\n",
    "mileage = []\n",
    "\n",
    "for result in results:\n",
    "    \n",
    "    # name\n",
    "    try:\n",
    "        name.append(result.find('p',{'class':'car-feature__name'}).get_text())\n",
    "    except:\n",
    "        name.append('n/a')\n",
    "        \n",
    "    # price\n",
    "    try:\n",
    "        price.append(result.find('p',{'class':'car-feature__amount'}).get_text().split()[-1])\n",
    "    except:\n",
    "        price.append('n/a')\n",
    "    \n",
    "    # country\n",
    "    try:\n",
    "        country.append(result.find_all('span')[0].get_text())\n",
    "    except:\n",
    "        country.append('n/a')\n",
    "        \n",
    "    # mileage\n",
    "    try:\n",
    "        mileage.append(result.find_all('span')[1].get_text())\n",
    "    except:\n",
    "        mileage.append('n/a')"
   ]
  },
  {
   "cell_type": "code",
   "execution_count": 201,
   "id": "303523a0",
   "metadata": {},
   "outputs": [],
   "source": [
    "data_1 = pd.DataFrame({'name':name,\n",
    "                     'price':price,\n",
    "                     'country':country,\n",
    "                     'mileage_in_km':mileage})"
   ]
  },
  {
   "cell_type": "code",
   "execution_count": 202,
   "id": "86c57b82",
   "metadata": {},
   "outputs": [
    {
     "data": {
      "text/html": [
       "<div>\n",
       "<style scoped>\n",
       "    .dataframe tbody tr th:only-of-type {\n",
       "        vertical-align: middle;\n",
       "    }\n",
       "\n",
       "    .dataframe tbody tr th {\n",
       "        vertical-align: top;\n",
       "    }\n",
       "\n",
       "    .dataframe thead th {\n",
       "        text-align: right;\n",
       "    }\n",
       "</style>\n",
       "<table border=\"1\" class=\"dataframe\">\n",
       "  <thead>\n",
       "    <tr style=\"text-align: right;\">\n",
       "      <th></th>\n",
       "      <th>name</th>\n",
       "      <th>price</th>\n",
       "      <th>country</th>\n",
       "      <th>mileage_in_km</th>\n",
       "    </tr>\n",
       "  </thead>\n",
       "  <tbody>\n",
       "    <tr>\n",
       "      <th>0</th>\n",
       "      <td>Lexus ES 2009 Gray</td>\n",
       "      <td>4,725,000</td>\n",
       "      <td>Foreign Used</td>\n",
       "      <td>208485 km</td>\n",
       "    </tr>\n",
       "    <tr>\n",
       "      <th>1</th>\n",
       "      <td>Lexus ES 350 2007 Black</td>\n",
       "      <td>4,472,000</td>\n",
       "      <td>Nigerian Used</td>\n",
       "      <td>91026 km</td>\n",
       "    </tr>\n",
       "    <tr>\n",
       "      <th>2</th>\n",
       "      <td>Lexus RX 330 2004 Silver</td>\n",
       "      <td>5,250,000</td>\n",
       "      <td>Foreign Used</td>\n",
       "      <td>346408 km</td>\n",
       "    </tr>\n",
       "    <tr>\n",
       "      <th>3</th>\n",
       "      <td>Lexus ES 350 2010 Black</td>\n",
       "      <td>6,676,000</td>\n",
       "      <td>Foreign Used</td>\n",
       "      <td>220978 km</td>\n",
       "    </tr>\n",
       "    <tr>\n",
       "      <th>4</th>\n",
       "      <td>Lexus ES 300 2002 Gray</td>\n",
       "      <td>2,716,000</td>\n",
       "      <td>Nigerian Used</td>\n",
       "      <td>311511 km</td>\n",
       "    </tr>\n",
       "    <tr>\n",
       "      <th>5</th>\n",
       "      <td>Lexus IS 2006 Red</td>\n",
       "      <td>3,640,000</td>\n",
       "      <td>Nigerian Used</td>\n",
       "      <td>129101 km</td>\n",
       "    </tr>\n",
       "    <tr>\n",
       "      <th>6</th>\n",
       "      <td>Lexus RX 350 2018 Black</td>\n",
       "      <td>21,937,500</td>\n",
       "      <td>Foreign Used</td>\n",
       "      <td>7349 km</td>\n",
       "    </tr>\n",
       "    <tr>\n",
       "      <th>7</th>\n",
       "      <td>Lexus RX 350 2011 White</td>\n",
       "      <td>9,880,000</td>\n",
       "      <td>Foreign Used</td>\n",
       "      <td>72572 km</td>\n",
       "    </tr>\n",
       "    <tr>\n",
       "      <th>8</th>\n",
       "      <td>Lexus ES 2010 Red</td>\n",
       "      <td>6,032,000</td>\n",
       "      <td>Foreign Used</td>\n",
       "      <td>143196 km</td>\n",
       "    </tr>\n",
       "    <tr>\n",
       "      <th>9</th>\n",
       "      <td>Lexus LS 2007 Gray</td>\n",
       "      <td>5,250,000</td>\n",
       "      <td>Foreign Used</td>\n",
       "      <td>277739 km</td>\n",
       "    </tr>\n",
       "    <tr>\n",
       "      <th>10</th>\n",
       "      <td>Lexus ES 2004 Silver</td>\n",
       "      <td>3,328,000</td>\n",
       "      <td>Foreign Used</td>\n",
       "      <td>614663 km</td>\n",
       "    </tr>\n",
       "    <tr>\n",
       "      <th>11</th>\n",
       "      <td>Lexus IS 250 AWD 2007 Silver</td>\n",
       "      <td>4,160,000</td>\n",
       "      <td>Foreign Used</td>\n",
       "      <td>205644 km</td>\n",
       "    </tr>\n",
       "    <tr>\n",
       "      <th>12</th>\n",
       "      <td>Lexus RX 2004 Gray</td>\n",
       "      <td>5,250,000</td>\n",
       "      <td>Foreign Used</td>\n",
       "      <td>396182 km</td>\n",
       "    </tr>\n",
       "    <tr>\n",
       "      <th>13</th>\n",
       "      <td>Lexus ES 2007 Red</td>\n",
       "      <td>4,836,000</td>\n",
       "      <td>Foreign Used</td>\n",
       "      <td>133222 km</td>\n",
       "    </tr>\n",
       "    <tr>\n",
       "      <th>14</th>\n",
       "      <td>Lexus ES 350 2009 Blue</td>\n",
       "      <td>4,680,000</td>\n",
       "      <td>Nigerian Used</td>\n",
       "      <td>63060 km</td>\n",
       "    </tr>\n",
       "  </tbody>\n",
       "</table>\n",
       "</div>"
      ],
      "text/plain": [
       "                            name       price        country mileage_in_km\n",
       "0             Lexus ES 2009 Gray   4,725,000   Foreign Used     208485 km\n",
       "1        Lexus ES 350 2007 Black   4,472,000  Nigerian Used      91026 km\n",
       "2       Lexus RX 330 2004 Silver   5,250,000   Foreign Used     346408 km\n",
       "3        Lexus ES 350 2010 Black   6,676,000   Foreign Used     220978 km\n",
       "4         Lexus ES 300 2002 Gray   2,716,000  Nigerian Used     311511 km\n",
       "5              Lexus IS 2006 Red   3,640,000  Nigerian Used     129101 km\n",
       "6        Lexus RX 350 2018 Black  21,937,500   Foreign Used       7349 km\n",
       "7        Lexus RX 350 2011 White   9,880,000   Foreign Used      72572 km\n",
       "8              Lexus ES 2010 Red   6,032,000   Foreign Used     143196 km\n",
       "9             Lexus LS 2007 Gray   5,250,000   Foreign Used     277739 km\n",
       "10          Lexus ES 2004 Silver   3,328,000   Foreign Used     614663 km\n",
       "11  Lexus IS 250 AWD 2007 Silver   4,160,000   Foreign Used     205644 km\n",
       "12            Lexus RX 2004 Gray   5,250,000   Foreign Used     396182 km\n",
       "13             Lexus ES 2007 Red   4,836,000   Foreign Used     133222 km\n",
       "14        Lexus ES 350 2009 Blue   4,680,000  Nigerian Used      63060 km"
      ]
     },
     "execution_count": 202,
     "metadata": {},
     "output_type": "execute_result"
    }
   ],
   "source": [
    "data_1"
   ]
  },
  {
   "cell_type": "code",
   "execution_count": 95,
   "id": "900d07b4",
   "metadata": {},
   "outputs": [],
   "source": [
    "name = []\n",
    "price = []\n",
    "country = []\n",
    "mileage = []\n",
    "\n",
    "for i in range(2,43):\n",
    "    website = 'https://www.cars45.com/listing/lexus/page' + str(i) + '?listing_id=uc0qL_tfhqKfJoc7'\n",
    "    \n",
    "    # request website\n",
    "    response = requests.get(website)\n",
    "    \n",
    "    # soup object\n",
    "    soup = BeautifulSoup(response.content, 'html.parser')\n",
    "    \n",
    "    # bringing up the content of the url\n",
    "    results = soup.find_all('div',{'class':'car-feature__details'})\n",
    "    \n",
    "    for result in results:\n",
    "    \n",
    "        # name\n",
    "        try:\n",
    "            name.append(result.find('p',{'class':'car-feature__name'}).get_text())\n",
    "        except:\n",
    "            name.append('n/a')\n",
    "\n",
    "        # price\n",
    "        try:\n",
    "            price.append(result.find('p',{'class':'car-feature__amount'}).get_text().split()[-1])\n",
    "        except:\n",
    "            price.append('n/a')\n",
    "\n",
    "        # country\n",
    "        try:\n",
    "            country.append(result.find_all('span')[0].get_text())\n",
    "        except:\n",
    "            country.append('n/a')\n",
    "\n",
    "        # mileage\n",
    "        try:\n",
    "            mileage.append(result.find_all('span')[1].get_text())\n",
    "        except:\n",
    "            mileage.append('n/a')\n",
    "\n"
   ]
  },
  {
   "cell_type": "code",
   "execution_count": 96,
   "id": "66adaae0",
   "metadata": {},
   "outputs": [],
   "source": [
    "data_2 = pd.DataFrame({'name':name,\n",
    "                     'price':price,\n",
    "                     'country':country,\n",
    "                     'mileage_in_km':mileage})"
   ]
  },
  {
   "cell_type": "code",
   "execution_count": 114,
   "id": "ddc92a33",
   "metadata": {},
   "outputs": [
    {
     "data": {
      "text/html": [
       "<div>\n",
       "<style scoped>\n",
       "    .dataframe tbody tr th:only-of-type {\n",
       "        vertical-align: middle;\n",
       "    }\n",
       "\n",
       "    .dataframe tbody tr th {\n",
       "        vertical-align: top;\n",
       "    }\n",
       "\n",
       "    .dataframe thead th {\n",
       "        text-align: right;\n",
       "    }\n",
       "</style>\n",
       "<table border=\"1\" class=\"dataframe\">\n",
       "  <thead>\n",
       "    <tr style=\"text-align: right;\">\n",
       "      <th></th>\n",
       "      <th>name</th>\n",
       "      <th>price</th>\n",
       "      <th>country</th>\n",
       "      <th>mileage_in_km</th>\n",
       "    </tr>\n",
       "  </thead>\n",
       "  <tbody>\n",
       "    <tr>\n",
       "      <th>0</th>\n",
       "      <td>Lexus RX 350 2013 Black</td>\n",
       "      <td>7,900,000</td>\n",
       "      <td>Nigerian Used</td>\n",
       "      <td>93594 km</td>\n",
       "    </tr>\n",
       "    <tr>\n",
       "      <th>1</th>\n",
       "      <td>Lexus ES 2007 Silver</td>\n",
       "      <td>3,744,000</td>\n",
       "      <td>Nigerian Used</td>\n",
       "      <td>177936 km</td>\n",
       "    </tr>\n",
       "    <tr>\n",
       "      <th>2</th>\n",
       "      <td>Lexus ES 330 2005 Black</td>\n",
       "      <td>3,360,000</td>\n",
       "      <td>Foreign Used</td>\n",
       "      <td>174360 km</td>\n",
       "    </tr>\n",
       "    <tr>\n",
       "      <th>3</th>\n",
       "      <td>Lexus ES 350 2009 Blue</td>\n",
       "      <td>4,680,000</td>\n",
       "      <td>Nigerian Used</td>\n",
       "      <td>63060 km</td>\n",
       "    </tr>\n",
       "    <tr>\n",
       "      <th>4</th>\n",
       "      <td>Lexus ES 350 2007 Silver</td>\n",
       "      <td>3,465,000</td>\n",
       "      <td>Nigerian Used</td>\n",
       "      <td>84355 km</td>\n",
       "    </tr>\n",
       "    <tr>\n",
       "      <th>...</th>\n",
       "      <td>...</td>\n",
       "      <td>...</td>\n",
       "      <td>...</td>\n",
       "      <td>...</td>\n",
       "    </tr>\n",
       "    <tr>\n",
       "      <th>604</th>\n",
       "      <td>Lexus LS 460 AWD 2009 Black</td>\n",
       "      <td>2,370,000</td>\n",
       "      <td>Nigerian Used</td>\n",
       "      <td>127837 km</td>\n",
       "    </tr>\n",
       "    <tr>\n",
       "      <th>605</th>\n",
       "      <td>Lexus RX 330 2005 Gray</td>\n",
       "      <td>2,330,000</td>\n",
       "      <td>Nigerian Used</td>\n",
       "      <td>313676 km</td>\n",
       "    </tr>\n",
       "    <tr>\n",
       "      <th>606</th>\n",
       "      <td>Lexus ES 2010 Gray</td>\n",
       "      <td>4,784,000</td>\n",
       "      <td>Nigerian Used</td>\n",
       "      <td>197269 km</td>\n",
       "    </tr>\n",
       "    <tr>\n",
       "      <th>607</th>\n",
       "      <td>Lexus IS 2003 Automatic Gray</td>\n",
       "      <td>945,000</td>\n",
       "      <td>Nigerian Used</td>\n",
       "      <td>n/a</td>\n",
       "    </tr>\n",
       "    <tr>\n",
       "      <th>608</th>\n",
       "      <td>Lexus RX 350 2010 White</td>\n",
       "      <td>9,880,000</td>\n",
       "      <td>Foreign Used</td>\n",
       "      <td>98929 km</td>\n",
       "    </tr>\n",
       "  </tbody>\n",
       "</table>\n",
       "<p>609 rows × 4 columns</p>\n",
       "</div>"
      ],
      "text/plain": [
       "                             name      price        country mileage_in_km\n",
       "0         Lexus RX 350 2013 Black  7,900,000  Nigerian Used      93594 km\n",
       "1            Lexus ES 2007 Silver  3,744,000  Nigerian Used     177936 km\n",
       "2         Lexus ES 330 2005 Black  3,360,000   Foreign Used     174360 km\n",
       "3          Lexus ES 350 2009 Blue  4,680,000  Nigerian Used      63060 km\n",
       "4        Lexus ES 350 2007 Silver  3,465,000  Nigerian Used      84355 km\n",
       "..                            ...        ...            ...           ...\n",
       "604   Lexus LS 460 AWD 2009 Black  2,370,000  Nigerian Used     127837 km\n",
       "605        Lexus RX 330 2005 Gray  2,330,000  Nigerian Used     313676 km\n",
       "606            Lexus ES 2010 Gray  4,784,000  Nigerian Used     197269 km\n",
       "607  Lexus IS 2003 Automatic Gray    945,000  Nigerian Used           n/a\n",
       "608       Lexus RX 350 2010 White  9,880,000   Foreign Used      98929 km\n",
       "\n",
       "[609 rows x 4 columns]"
      ]
     },
     "execution_count": 114,
     "metadata": {},
     "output_type": "execute_result"
    }
   ],
   "source": [
    "data_2"
   ]
  },
  {
   "cell_type": "code",
   "execution_count": 232,
   "id": "09229246",
   "metadata": {},
   "outputs": [],
   "source": [
    "df = [data_1, data_2]\n",
    "data = pd.concat(df)"
   ]
  },
  {
   "cell_type": "code",
   "execution_count": 233,
   "id": "aa625b28",
   "metadata": {},
   "outputs": [
    {
     "data": {
      "text/html": [
       "<div>\n",
       "<style scoped>\n",
       "    .dataframe tbody tr th:only-of-type {\n",
       "        vertical-align: middle;\n",
       "    }\n",
       "\n",
       "    .dataframe tbody tr th {\n",
       "        vertical-align: top;\n",
       "    }\n",
       "\n",
       "    .dataframe thead th {\n",
       "        text-align: right;\n",
       "    }\n",
       "</style>\n",
       "<table border=\"1\" class=\"dataframe\">\n",
       "  <thead>\n",
       "    <tr style=\"text-align: right;\">\n",
       "      <th></th>\n",
       "      <th>name</th>\n",
       "      <th>price</th>\n",
       "      <th>country</th>\n",
       "      <th>mileage_in_km</th>\n",
       "    </tr>\n",
       "  </thead>\n",
       "  <tbody>\n",
       "    <tr>\n",
       "      <th>0</th>\n",
       "      <td>Lexus ES 2009 Gray</td>\n",
       "      <td>4,725,000</td>\n",
       "      <td>Foreign Used</td>\n",
       "      <td>208485 km</td>\n",
       "    </tr>\n",
       "    <tr>\n",
       "      <th>1</th>\n",
       "      <td>Lexus ES 350 2007 Black</td>\n",
       "      <td>4,472,000</td>\n",
       "      <td>Nigerian Used</td>\n",
       "      <td>91026 km</td>\n",
       "    </tr>\n",
       "    <tr>\n",
       "      <th>2</th>\n",
       "      <td>Lexus RX 330 2004 Silver</td>\n",
       "      <td>5,250,000</td>\n",
       "      <td>Foreign Used</td>\n",
       "      <td>346408 km</td>\n",
       "    </tr>\n",
       "    <tr>\n",
       "      <th>3</th>\n",
       "      <td>Lexus ES 350 2010 Black</td>\n",
       "      <td>6,676,000</td>\n",
       "      <td>Foreign Used</td>\n",
       "      <td>220978 km</td>\n",
       "    </tr>\n",
       "    <tr>\n",
       "      <th>4</th>\n",
       "      <td>Lexus ES 300 2002 Gray</td>\n",
       "      <td>2,716,000</td>\n",
       "      <td>Nigerian Used</td>\n",
       "      <td>311511 km</td>\n",
       "    </tr>\n",
       "    <tr>\n",
       "      <th>...</th>\n",
       "      <td>...</td>\n",
       "      <td>...</td>\n",
       "      <td>...</td>\n",
       "      <td>...</td>\n",
       "    </tr>\n",
       "    <tr>\n",
       "      <th>604</th>\n",
       "      <td>Lexus LS 460 AWD 2009 Black</td>\n",
       "      <td>2,370,000</td>\n",
       "      <td>Nigerian Used</td>\n",
       "      <td>127837 km</td>\n",
       "    </tr>\n",
       "    <tr>\n",
       "      <th>605</th>\n",
       "      <td>Lexus RX 330 2005 Gray</td>\n",
       "      <td>2,330,000</td>\n",
       "      <td>Nigerian Used</td>\n",
       "      <td>313676 km</td>\n",
       "    </tr>\n",
       "    <tr>\n",
       "      <th>606</th>\n",
       "      <td>Lexus ES 2010 Gray</td>\n",
       "      <td>4,784,000</td>\n",
       "      <td>Nigerian Used</td>\n",
       "      <td>197269 km</td>\n",
       "    </tr>\n",
       "    <tr>\n",
       "      <th>607</th>\n",
       "      <td>Lexus IS 2003 Automatic Gray</td>\n",
       "      <td>945,000</td>\n",
       "      <td>Nigerian Used</td>\n",
       "      <td>n/a</td>\n",
       "    </tr>\n",
       "    <tr>\n",
       "      <th>608</th>\n",
       "      <td>Lexus RX 350 2010 White</td>\n",
       "      <td>9,880,000</td>\n",
       "      <td>Foreign Used</td>\n",
       "      <td>98929 km</td>\n",
       "    </tr>\n",
       "  </tbody>\n",
       "</table>\n",
       "<p>624 rows × 4 columns</p>\n",
       "</div>"
      ],
      "text/plain": [
       "                             name      price        country mileage_in_km\n",
       "0              Lexus ES 2009 Gray  4,725,000   Foreign Used     208485 km\n",
       "1         Lexus ES 350 2007 Black  4,472,000  Nigerian Used      91026 km\n",
       "2        Lexus RX 330 2004 Silver  5,250,000   Foreign Used     346408 km\n",
       "3         Lexus ES 350 2010 Black  6,676,000   Foreign Used     220978 km\n",
       "4          Lexus ES 300 2002 Gray  2,716,000  Nigerian Used     311511 km\n",
       "..                            ...        ...            ...           ...\n",
       "604   Lexus LS 460 AWD 2009 Black  2,370,000  Nigerian Used     127837 km\n",
       "605        Lexus RX 330 2005 Gray  2,330,000  Nigerian Used     313676 km\n",
       "606            Lexus ES 2010 Gray  4,784,000  Nigerian Used     197269 km\n",
       "607  Lexus IS 2003 Automatic Gray    945,000  Nigerian Used           n/a\n",
       "608       Lexus RX 350 2010 White  9,880,000   Foreign Used      98929 km\n",
       "\n",
       "[624 rows x 4 columns]"
      ]
     },
     "execution_count": 233,
     "metadata": {},
     "output_type": "execute_result"
    }
   ],
   "source": [
    "data"
   ]
  },
  {
   "cell_type": "markdown",
   "id": "c5cfb9f0",
   "metadata": {},
   "source": [
    "### DATA INSPECTION AND WRANGLING"
   ]
  },
  {
   "cell_type": "code",
   "execution_count": 235,
   "id": "33a3ba7c",
   "metadata": {
    "scrolled": true
   },
   "outputs": [],
   "source": [
    "# removing 'km' from the mileage column\n",
    "data['mileage_in_km'] = data['mileage_in_km'].apply(lambda x:x.strip('km'))"
   ]
  },
  {
   "cell_type": "code",
   "execution_count": 236,
   "id": "a39b244f",
   "metadata": {},
   "outputs": [],
   "source": [
    "# renaming column\n",
    "data = data.rename(columns={'price': 'price_in_NGN'})"
   ]
  },
  {
   "cell_type": "code",
   "execution_count": 237,
   "id": "adab399b",
   "metadata": {},
   "outputs": [
    {
     "data": {
      "text/plain": [
       "(624, 4)"
      ]
     },
     "execution_count": 237,
     "metadata": {},
     "output_type": "execute_result"
    }
   ],
   "source": [
    "data.shape"
   ]
  },
  {
   "cell_type": "code",
   "execution_count": 238,
   "id": "c75c6875",
   "metadata": {},
   "outputs": [
    {
     "data": {
      "text/plain": [
       "name             0\n",
       "price_in_NGN     0\n",
       "country          0\n",
       "mileage_in_km    0\n",
       "dtype: int64"
      ]
     },
     "execution_count": 238,
     "metadata": {},
     "output_type": "execute_result"
    }
   ],
   "source": [
    "data.isnull().sum()"
   ]
  },
  {
   "cell_type": "code",
   "execution_count": 239,
   "id": "17561f39",
   "metadata": {},
   "outputs": [
    {
     "data": {
      "text/html": [
       "<div>\n",
       "<style scoped>\n",
       "    .dataframe tbody tr th:only-of-type {\n",
       "        vertical-align: middle;\n",
       "    }\n",
       "\n",
       "    .dataframe tbody tr th {\n",
       "        vertical-align: top;\n",
       "    }\n",
       "\n",
       "    .dataframe thead th {\n",
       "        text-align: right;\n",
       "    }\n",
       "</style>\n",
       "<table border=\"1\" class=\"dataframe\">\n",
       "  <thead>\n",
       "    <tr style=\"text-align: right;\">\n",
       "      <th></th>\n",
       "      <th>name</th>\n",
       "      <th>price_in_NGN</th>\n",
       "      <th>country</th>\n",
       "      <th>mileage_in_km</th>\n",
       "    </tr>\n",
       "  </thead>\n",
       "  <tbody>\n",
       "    <tr>\n",
       "      <th>0</th>\n",
       "      <td>Lexus ES 2009 Gray</td>\n",
       "      <td>4,725,000</td>\n",
       "      <td>Foreign Used</td>\n",
       "      <td>208485</td>\n",
       "    </tr>\n",
       "    <tr>\n",
       "      <th>1</th>\n",
       "      <td>Lexus ES 350 2007 Black</td>\n",
       "      <td>4,472,000</td>\n",
       "      <td>Nigerian Used</td>\n",
       "      <td>91026</td>\n",
       "    </tr>\n",
       "    <tr>\n",
       "      <th>2</th>\n",
       "      <td>Lexus RX 330 2004 Silver</td>\n",
       "      <td>5,250,000</td>\n",
       "      <td>Foreign Used</td>\n",
       "      <td>346408</td>\n",
       "    </tr>\n",
       "    <tr>\n",
       "      <th>3</th>\n",
       "      <td>Lexus ES 350 2010 Black</td>\n",
       "      <td>6,676,000</td>\n",
       "      <td>Foreign Used</td>\n",
       "      <td>220978</td>\n",
       "    </tr>\n",
       "    <tr>\n",
       "      <th>4</th>\n",
       "      <td>Lexus ES 300 2002 Gray</td>\n",
       "      <td>2,716,000</td>\n",
       "      <td>Nigerian Used</td>\n",
       "      <td>311511</td>\n",
       "    </tr>\n",
       "  </tbody>\n",
       "</table>\n",
       "</div>"
      ],
      "text/plain": [
       "                       name price_in_NGN        country mileage_in_km\n",
       "0        Lexus ES 2009 Gray    4,725,000   Foreign Used       208485 \n",
       "1   Lexus ES 350 2007 Black    4,472,000  Nigerian Used        91026 \n",
       "2  Lexus RX 330 2004 Silver    5,250,000   Foreign Used       346408 \n",
       "3   Lexus ES 350 2010 Black    6,676,000   Foreign Used       220978 \n",
       "4    Lexus ES 300 2002 Gray    2,716,000  Nigerian Used       311511 "
      ]
     },
     "execution_count": 239,
     "metadata": {},
     "output_type": "execute_result"
    }
   ],
   "source": [
    "data.head()"
   ]
  },
  {
   "cell_type": "code",
   "execution_count": 242,
   "id": "6fed2878",
   "metadata": {},
   "outputs": [],
   "source": [
    "data.to_csv('cars45_lexus_sales.csv', index=False)"
   ]
  }
 ],
 "metadata": {
  "kernelspec": {
   "display_name": "Python 3 (ipykernel)",
   "language": "python",
   "name": "python3"
  },
  "language_info": {
   "codemirror_mode": {
    "name": "ipython",
    "version": 3
   },
   "file_extension": ".py",
   "mimetype": "text/x-python",
   "name": "python",
   "nbconvert_exporter": "python",
   "pygments_lexer": "ipython3",
   "version": "3.9.7"
  }
 },
 "nbformat": 4,
 "nbformat_minor": 5
}
