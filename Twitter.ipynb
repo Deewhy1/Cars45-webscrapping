{
 "cells": [
  {
   "cell_type": "code",
   "execution_count": 12,
   "id": "8f19020c",
   "metadata": {},
   "outputs": [],
   "source": [
    "import tweepy\n",
    "import numpy as np\n",
    "import pandas as pd"
   ]
  },
  {
   "cell_type": "code",
   "execution_count": 26,
   "id": "fe341b39",
   "metadata": {},
   "outputs": [],
   "source": [
    "consumer_key = \"##################\"\n",
    "consumer_secret = \"##############################\"\n",
    "access_token = \"###########################\"\n",
    "access_token_secret = \"###############################\"\n",
    "auth = tweepy.OAuthHandler(consumer_key, consumer_secret)\n",
    "auth.set_access_token(access_token, access_token_secret)\n",
    "api = tweepy.API(auth)\n",
    "\n",
    "keyword = \"#grayman\"\n",
    "limit = 100\n",
    "\n",
    "tweets = tweepy.Cursor(api.search_tweets, q=keyword, count=100, tweet_mode=\"extended\").items(limit)"
   ]
  },
  {
   "cell_type": "code",
   "execution_count": 27,
   "id": "d1847ad7",
   "metadata": {},
   "outputs": [],
   "source": [
    "tweet_id = []\n",
    "Tweet = []\n",
    "date = []\n",
    "Retweets = []\n",
    "Likes = []\n",
    "for tweet in tweets:\n",
    "    Retweets.append(tweet.retweet_count)\n",
    "    Likes.append(tweet.favorite_count)\n",
    "    date.append(tweet.created_at)\n",
    "    Tweet.append(tweet.full_text)\n",
    "    tweet_id.append(tweet.id)\n",
    "    "
   ]
  },
  {
   "cell_type": "code",
   "execution_count": 28,
   "id": "9a923710",
   "metadata": {},
   "outputs": [],
   "source": [
    "data = pd.DataFrame({\"Tweet_id\": tweet_id,\n",
    "                    \"Tweet\": Tweet,\n",
    "                    \"Date\": date,\n",
    "                    \"no_of_retweets\": Retweets,\n",
    "                    \"no_of_likes\": Likes})"
   ]
  },
  {
   "cell_type": "code",
   "execution_count": 34,
   "id": "d862b8ae",
   "metadata": {},
   "outputs": [
    {
     "data": {
      "text/html": [
       "<div>\n",
       "<style scoped>\n",
       "    .dataframe tbody tr th:only-of-type {\n",
       "        vertical-align: middle;\n",
       "    }\n",
       "\n",
       "    .dataframe tbody tr th {\n",
       "        vertical-align: top;\n",
       "    }\n",
       "\n",
       "    .dataframe thead th {\n",
       "        text-align: right;\n",
       "    }\n",
       "</style>\n",
       "<table border=\"1\" class=\"dataframe\">\n",
       "  <thead>\n",
       "    <tr style=\"text-align: right;\">\n",
       "      <th></th>\n",
       "      <th>Tweet_id</th>\n",
       "      <th>Tweet</th>\n",
       "      <th>Date</th>\n",
       "      <th>no_of_retweets</th>\n",
       "      <th>no_of_likes</th>\n",
       "    </tr>\n",
       "  </thead>\n",
       "  <tbody>\n",
       "    <tr>\n",
       "      <th>0</th>\n",
       "      <td>1554238005426225152</td>\n",
       "      <td>RT @NiklasAstrand: Watching #GrayMan movie and...</td>\n",
       "      <td>2022-08-01 22:49:51+00:00</td>\n",
       "      <td>7</td>\n",
       "      <td>0</td>\n",
       "    </tr>\n",
       "    <tr>\n",
       "      <th>1</th>\n",
       "      <td>1554237732381237252</td>\n",
       "      <td>RT @NiklasAstrand: Watching #GrayMan movie and...</td>\n",
       "      <td>2022-08-01 22:48:46+00:00</td>\n",
       "      <td>7</td>\n",
       "      <td>0</td>\n",
       "    </tr>\n",
       "    <tr>\n",
       "      <th>2</th>\n",
       "      <td>1554233740242583552</td>\n",
       "      <td>I really enjoyed The Gray Man.csnt wait for th...</td>\n",
       "      <td>2022-08-01 22:32:54+00:00</td>\n",
       "      <td>0</td>\n",
       "      <td>1</td>\n",
       "    </tr>\n",
       "    <tr>\n",
       "      <th>3</th>\n",
       "      <td>1554223190477602817</td>\n",
       "      <td>Ryan Gosling is fantastic in The Gray Man. @Ch...</td>\n",
       "      <td>2022-08-01 21:50:59+00:00</td>\n",
       "      <td>0</td>\n",
       "      <td>0</td>\n",
       "    </tr>\n",
       "    <tr>\n",
       "      <th>4</th>\n",
       "      <td>1554203177519652864</td>\n",
       "      <td>Bu gözler bu akşam Hintli süper ajan gördü. Hi...</td>\n",
       "      <td>2022-08-01 20:31:27+00:00</td>\n",
       "      <td>0</td>\n",
       "      <td>3</td>\n",
       "    </tr>\n",
       "  </tbody>\n",
       "</table>\n",
       "</div>"
      ],
      "text/plain": [
       "              Tweet_id                                              Tweet  \\\n",
       "0  1554238005426225152  RT @NiklasAstrand: Watching #GrayMan movie and...   \n",
       "1  1554237732381237252  RT @NiklasAstrand: Watching #GrayMan movie and...   \n",
       "2  1554233740242583552  I really enjoyed The Gray Man.csnt wait for th...   \n",
       "3  1554223190477602817  Ryan Gosling is fantastic in The Gray Man. @Ch...   \n",
       "4  1554203177519652864  Bu gözler bu akşam Hintli süper ajan gördü. Hi...   \n",
       "\n",
       "                       Date  no_of_retweets  no_of_likes  \n",
       "0 2022-08-01 22:49:51+00:00               7            0  \n",
       "1 2022-08-01 22:48:46+00:00               7            0  \n",
       "2 2022-08-01 22:32:54+00:00               0            1  \n",
       "3 2022-08-01 21:50:59+00:00               0            0  \n",
       "4 2022-08-01 20:31:27+00:00               0            3  "
      ]
     },
     "execution_count": 34,
     "metadata": {},
     "output_type": "execute_result"
    }
   ],
   "source": [
    "data.head(5)"
   ]
  },
  {
   "cell_type": "code",
   "execution_count": 33,
   "id": "21673490",
   "metadata": {},
   "outputs": [],
   "source": [
    "data.Date = pd.to_datetime(data.Date)"
   ]
  },
  {
   "cell_type": "code",
   "execution_count": 35,
   "id": "70a203a4",
   "metadata": {},
   "outputs": [
    {
     "data": {
      "text/plain": [
       "datetime64[ns, UTC]"
      ]
     },
     "execution_count": 35,
     "metadata": {},
     "output_type": "execute_result"
    }
   ],
   "source": [
    "data.Date.dtypes"
   ]
  }
 ],
 "metadata": {
  "kernelspec": {
   "display_name": "Python 3 (ipykernel)",
   "language": "python",
   "name": "python3"
  },
  "language_info": {
   "codemirror_mode": {
    "name": "ipython",
    "version": 3
   },
   "file_extension": ".py",
   "mimetype": "text/x-python",
   "name": "python",
   "nbconvert_exporter": "python",
   "pygments_lexer": "ipython3",
   "version": "3.9.7"
  }
 },
 "nbformat": 4,
 "nbformat_minor": 5
}
